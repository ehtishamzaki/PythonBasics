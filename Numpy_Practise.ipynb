{
  "nbformat": 4,
  "nbformat_minor": 0,
  "metadata": {
    "kernelspec": {
      "display_name": "Python 3",
      "language": "python",
      "name": "python3"
    },
    "language_info": {
      "codemirror_mode": {
        "name": "ipython",
        "version": 3
      },
      "file_extension": ".py",
      "mimetype": "text/x-python",
      "name": "python",
      "nbconvert_exporter": "python",
      "pygments_lexer": "ipython3",
      "version": "3.7.4"
    },
    "colab": {
      "name": "Numpy_Practise.ipynb",
      "provenance": [],
      "include_colab_link": true
    }
  },
  "cells": [
    {
      "cell_type": "markdown",
      "metadata": {
        "id": "view-in-github",
        "colab_type": "text"
      },
      "source": [
        "<a href=\"https://colab.research.google.com/github/ehtishamzaki/PythonBasics/blob/master/Numpy_Practise.ipynb\" target=\"_parent\"><img src=\"https://colab.research.google.com/assets/colab-badge.svg\" alt=\"Open In Colab\"/></a>"
      ]
    },
    {
      "cell_type": "markdown",
      "metadata": {
        "id": "-eITn098rFW4",
        "colab_type": "text"
      },
      "source": [
        "# Introduction to the Numpy Library\n",
        "\n",
        "In this tutorial  i will be looking into numerical python library Numpy"
      ]
    },
    {
      "cell_type": "markdown",
      "metadata": {
        "id": "ZZhhXjxrrFW6",
        "colab_type": "text"
      },
      "source": [
        "## What is Numpy ?\n",
        "\n",
        "Numpy is a core python package for scientific computing that \n",
        "\n",
        " * provide a powerful N-dimensional array object\n",
        " * highly optimised linear algebra tools\n",
        " * very close integration with C/C++ and Fortan code\n",
        " * licensed under a BSD license (free to use)\n",
        " \n",
        " \n",
        "## Importing the Numpy\n",
        "\n",
        "The most conventional approach used is\n",
        "\n"
      ]
    },
    {
      "cell_type": "code",
      "metadata": {
        "id": "kFe3YmR-rFW7",
        "colab_type": "code",
        "colab": {}
      },
      "source": [
        "import numpy as np   "
      ],
      "execution_count": 0,
      "outputs": []
    },
    {
      "cell_type": "markdown",
      "metadata": {
        "id": "_E7HH9q0rFW-",
        "colab_type": "text"
      },
      "source": [
        "In the above statement, the python keyword 'as' allows us to use 'np' as a shorthand to refer to the 'numpy' module."
      ]
    },
    {
      "cell_type": "code",
      "metadata": {
        "id": "kcKjB5rUrFW_",
        "colab_type": "code",
        "colab": {}
      },
      "source": [
        "# You will also frequenty see the following statement\n",
        "\n",
        "import matplotlib.pyplot as plt\n",
        "\n",
        "# this allows the alias 'plt' to now access plotting libraries wrapped inside pyplt!"
      ],
      "execution_count": 0,
      "outputs": []
    },
    {
      "cell_type": "markdown",
      "metadata": {
        "id": "bka8XgdnrFXB",
        "colab_type": "text"
      },
      "source": [
        "## Generating a numpy array\n",
        "\n",
        "There are several ways to generate a numpy array. \n",
        " * It could be generated from a python lists containing numeric data\n",
        " * using numpy array generating functions\n",
        " * reading numeric data from a file\n",
        " \n",
        "Numpy represents N-dimensional array as type 'numpy.ndarray'"
      ]
    },
    {
      "cell_type": "markdown",
      "metadata": {
        "id": "G3-fSpigrFXC",
        "colab_type": "text"
      },
      "source": [
        "## Creating array from lists"
      ]
    },
    {
      "cell_type": "code",
      "metadata": {
        "id": "XiP1ieblrFXD",
        "colab_type": "code",
        "colab": {
          "base_uri": "https://localhost:8080/",
          "height": 51
        },
        "outputId": "4d001774-5610-4bf7-a95d-3aee72913240"
      },
      "source": [
        "data_list = [1,2,3,4,5]\n",
        "array_1D = np.array(data_list)\n",
        "\n",
        "print(array_1D)            # [1 2 3 4 5]\n",
        "print(type(array_1D))      # <class 'numpy.ndarray'>"
      ],
      "execution_count": 3,
      "outputs": [
        {
          "output_type": "stream",
          "text": [
            "[1 2 3 4 5]\n",
            "<class 'numpy.ndarray'>\n"
          ],
          "name": "stdout"
        }
      ]
    },
    {
      "cell_type": "code",
      "metadata": {
        "id": "UcvkULfKrFXG",
        "colab_type": "code",
        "colab": {
          "base_uri": "https://localhost:8080/",
          "height": 85
        },
        "outputId": "65a100a7-060c-4181-c314-b16cbe8c61e3"
      },
      "source": [
        "my_2d_array = np.array([[1, 2, 3], [4, 5, 6], [7, 8, 9]])\n",
        "\n",
        "print(my_2d_array)\n",
        "print(type(my_2d_array))"
      ],
      "execution_count": 4,
      "outputs": [
        {
          "output_type": "stream",
          "text": [
            "[[1 2 3]\n",
            " [4 5 6]\n",
            " [7 8 9]]\n",
            "<class 'numpy.ndarray'>\n"
          ],
          "name": "stdout"
        }
      ]
    },
    {
      "cell_type": "markdown",
      "metadata": {
        "id": "iBnffv_IrFXJ",
        "colab_type": "text"
      },
      "source": [
        "## The ndarray object’s properties\n",
        "\n",
        "The ndarray has various properties that we can access, for example using above my_2d_array we can see:\n",
        " "
      ]
    },
    {
      "cell_type": "code",
      "metadata": {
        "id": "sJl_wO0hrFXK",
        "colab_type": "code",
        "colab": {
          "base_uri": "https://localhost:8080/",
          "height": 34
        },
        "outputId": "4fceab94-67ec-4c5d-a71e-f3e1f2683ad3"
      },
      "source": [
        "print(my_2d_array.shape)   # the shape of a numpy array "
      ],
      "execution_count": 5,
      "outputs": [
        {
          "output_type": "stream",
          "text": [
            "(3, 3)\n"
          ],
          "name": "stdout"
        }
      ]
    },
    {
      "cell_type": "code",
      "metadata": {
        "id": "JZ9BYrWurFXN",
        "colab_type": "code",
        "colab": {
          "base_uri": "https://localhost:8080/",
          "height": 34
        },
        "outputId": "48e28451-b32c-4fc4-ee79-1bbe883f4dce"
      },
      "source": [
        "print(my_2d_array.size)    # the size of a numpy array\n",
        "                           # returns total number of elements"
      ],
      "execution_count": 6,
      "outputs": [
        {
          "output_type": "stream",
          "text": [
            "9\n"
          ],
          "name": "stdout"
        }
      ]
    },
    {
      "cell_type": "code",
      "metadata": {
        "id": "XMGRfBQErFXQ",
        "colab_type": "code",
        "colab": {
          "base_uri": "https://localhost:8080/",
          "height": 34
        },
        "outputId": "0d8f12ec-a461-4797-bb04-a6e1d143fa2a"
      },
      "source": [
        "print(my_2d_array.dtype)   # Print the type of data the array holds \n",
        "                           # (eg: int64, float64 etc)"
      ],
      "execution_count": 7,
      "outputs": [
        {
          "output_type": "stream",
          "text": [
            "int64\n"
          ],
          "name": "stdout"
        }
      ]
    },
    {
      "cell_type": "markdown",
      "metadata": {
        "id": "97T3pVDtrFXS",
        "colab_type": "text"
      },
      "source": [
        "## N-dimensional arrays\n",
        "\n",
        "Note, numpy generalises arrays to be N-dimensional\n"
      ]
    },
    {
      "cell_type": "code",
      "metadata": {
        "id": "-pUm4lDVrFXV",
        "colab_type": "code",
        "colab": {
          "base_uri": "https://localhost:8080/",
          "height": 51
        },
        "outputId": "924a1cb3-0670-4b06-d274-a49105309903"
      },
      "source": [
        "x2 = np.array([[1,2], [3, 4]])       # a matrix \n",
        "print(x2.shape)                      # (2, 2)\n",
        "\n",
        "x3 = np.array([x2, x2])              # stacking two matrices\n",
        "print(x3.shape)                      # (2, 2, 2)"
      ],
      "execution_count": 8,
      "outputs": [
        {
          "output_type": "stream",
          "text": [
            "(2, 2)\n",
            "(2, 2, 2)\n"
          ],
          "name": "stdout"
        }
      ]
    },
    {
      "cell_type": "code",
      "metadata": {
        "id": "S-fiNroWrFXY",
        "colab_type": "code",
        "colab": {
          "base_uri": "https://localhost:8080/",
          "height": 51
        },
        "outputId": "e2b728ac-7416-4e5a-f7d5-833675abc530"
      },
      "source": [
        "x4 = np.array([x3, x3, x3, x3, x3])  # stacking 5 3-D structures\n",
        "print(x4.shape)                      # (5, 2, 2, 2)\n",
        "#print(x4)\n",
        "   \n",
        "x5 = np.array([x4, x4])              # stacking 2 4-D structures!\n",
        "print(x5.shape)                      # (2, 5, 2, 2, 2)"
      ],
      "execution_count": 9,
      "outputs": [
        {
          "output_type": "stream",
          "text": [
            "(5, 2, 2, 2)\n",
            "(2, 5, 2, 2, 2)\n"
          ],
          "name": "stdout"
        }
      ]
    },
    {
      "cell_type": "markdown",
      "metadata": {
        "id": "fWBhkiGSrFXa",
        "colab_type": "text"
      },
      "source": [
        "## Array generating functions"
      ]
    },
    {
      "cell_type": "markdown",
      "metadata": {
        "id": "TuhvidZWrFXb",
        "colab_type": "text"
      },
      "source": [
        "### 1. arange function"
      ]
    },
    {
      "cell_type": "code",
      "metadata": {
        "id": "Tq5vTTTvrFXb",
        "colab_type": "code",
        "colab": {
          "base_uri": "https://localhost:8080/",
          "height": 34
        },
        "outputId": "23769a05-1b2c-4495-e3e7-4651cdd7a8fe"
      },
      "source": [
        "print(np.arange(10))     # generates 10 numbers starting from 0"
      ],
      "execution_count": 10,
      "outputs": [
        {
          "output_type": "stream",
          "text": [
            "[0 1 2 3 4 5 6 7 8 9]\n"
          ],
          "name": "stdout"
        }
      ]
    },
    {
      "cell_type": "code",
      "metadata": {
        "id": "K6uyBLoLrFXe",
        "colab_type": "code",
        "colab": {
          "base_uri": "https://localhost:8080/",
          "height": 34
        },
        "outputId": "54eea9da-4785-481d-f15c-f6d4b3f7b5e7"
      },
      "source": [
        "print(np.arange(10, 20))   # generate number starting from 10 to 20 "
      ],
      "execution_count": 11,
      "outputs": [
        {
          "output_type": "stream",
          "text": [
            "[10 11 12 13 14 15 16 17 18 19]\n"
          ],
          "name": "stdout"
        }
      ]
    },
    {
      "cell_type": "code",
      "metadata": {
        "id": "2D1Zc-q4rFXg",
        "colab_type": "code",
        "colab": {
          "base_uri": "https://localhost:8080/",
          "height": 34
        },
        "outputId": "03f20ecf-153f-4e65-80e6-6e2a13b473e2"
      },
      "source": [
        "print(np.arange(10, 20, 2))   # generate number starting from 10 to 20 with step 2"
      ],
      "execution_count": 12,
      "outputs": [
        {
          "output_type": "stream",
          "text": [
            "[10 12 14 16 18]\n"
          ],
          "name": "stdout"
        }
      ]
    },
    {
      "cell_type": "markdown",
      "metadata": {
        "id": "KtaQs0K0rFXj",
        "colab_type": "text"
      },
      "source": [
        "### 2.  linspace"
      ]
    },
    {
      "cell_type": "code",
      "metadata": {
        "id": "yw3oW972rFXj",
        "colab_type": "code",
        "colab": {
          "base_uri": "https://localhost:8080/",
          "height": 34
        },
        "outputId": "d97545da-3bc5-4a4b-f641-40e7ce4641be"
      },
      "source": [
        "print(np.linspace(10, 20, 5))  # start, stop, n-points"
      ],
      "execution_count": 13,
      "outputs": [
        {
          "output_type": "stream",
          "text": [
            "[10.  12.5 15.  17.5 20. ]\n"
          ],
          "name": "stdout"
        }
      ]
    },
    {
      "cell_type": "markdown",
      "metadata": {
        "id": "wKYd1RGyrFXm",
        "colab_type": "text"
      },
      "source": [
        "### 3. ones and zeros functions"
      ]
    },
    {
      "cell_type": "code",
      "metadata": {
        "id": "f88kV08vrFXn",
        "colab_type": "code",
        "colab": {
          "base_uri": "https://localhost:8080/",
          "height": 68
        },
        "outputId": "10f5c341-3c87-4ed0-e62e-42a9aa3be97c"
      },
      "source": [
        "print(np.zeros((3, 3)))   # the argument is a tuple !"
      ],
      "execution_count": 14,
      "outputs": [
        {
          "output_type": "stream",
          "text": [
            "[[0. 0. 0.]\n",
            " [0. 0. 0.]\n",
            " [0. 0. 0.]]\n"
          ],
          "name": "stdout"
        }
      ]
    },
    {
      "cell_type": "code",
      "metadata": {
        "id": "iYERUf9srFXp",
        "colab_type": "code",
        "colab": {
          "base_uri": "https://localhost:8080/",
          "height": 68
        },
        "outputId": "3880a0fc-4368-4496-a392-578d82fc4643"
      },
      "source": [
        "print(np.ones((3, 3)))   # the argument is a tuple !"
      ],
      "execution_count": 15,
      "outputs": [
        {
          "output_type": "stream",
          "text": [
            "[[1. 1. 1.]\n",
            " [1. 1. 1.]\n",
            " [1. 1. 1.]]\n"
          ],
          "name": "stdout"
        }
      ]
    },
    {
      "cell_type": "markdown",
      "metadata": {
        "id": "472oOSyurFXr",
        "colab_type": "text"
      },
      "source": [
        "### 4. diagonal and identity matrix"
      ]
    },
    {
      "cell_type": "code",
      "metadata": {
        "id": "n1FvQpGPrFXs",
        "colab_type": "code",
        "colab": {
          "base_uri": "https://localhost:8080/",
          "height": 68
        },
        "outputId": "fa4698f2-cc8f-4bd3-9559-7db5653b679c"
      },
      "source": [
        "print(np.diag((4,5,3)))  # generate diagonal matrix"
      ],
      "execution_count": 16,
      "outputs": [
        {
          "output_type": "stream",
          "text": [
            "[[4 0 0]\n",
            " [0 5 0]\n",
            " [0 0 3]]\n"
          ],
          "name": "stdout"
        }
      ]
    },
    {
      "cell_type": "code",
      "metadata": {
        "id": "3DnGS0RPrFXu",
        "colab_type": "code",
        "colab": {
          "base_uri": "https://localhost:8080/",
          "height": 68
        },
        "outputId": "04b603de-72ca-4b0b-eaf5-446a29064d4b"
      },
      "source": [
        "print(np.diag((2,2), k=1))    "
      ],
      "execution_count": 17,
      "outputs": [
        {
          "output_type": "stream",
          "text": [
            "[[0 2 0]\n",
            " [0 0 2]\n",
            " [0 0 0]]\n"
          ],
          "name": "stdout"
        }
      ]
    },
    {
      "cell_type": "code",
      "metadata": {
        "id": "XCpuKUFurFXx",
        "colab_type": "code",
        "colab": {
          "base_uri": "https://localhost:8080/",
          "height": 68
        },
        "outputId": "d82f8f57-5011-45b9-c44b-8828d36a6913"
      },
      "source": [
        "print(np.eye(3)) # Identity matrix"
      ],
      "execution_count": 18,
      "outputs": [
        {
          "output_type": "stream",
          "text": [
            "[[1. 0. 0.]\n",
            " [0. 1. 0.]\n",
            " [0. 0. 1.]]\n"
          ],
          "name": "stdout"
        }
      ]
    },
    {
      "cell_type": "markdown",
      "metadata": {
        "id": "3LSuSaItrFXz",
        "colab_type": "text"
      },
      "source": [
        "## 5. Random numbers"
      ]
    },
    {
      "cell_type": "markdown",
      "metadata": {
        "id": "NaBUcVLerFX0",
        "colab_type": "text"
      },
      "source": [
        "#### Initialise array with random numbers from uniform distribution between 0 and 1\n"
      ]
    },
    {
      "cell_type": "code",
      "metadata": {
        "id": "Lo9ndDm_rFX0",
        "colab_type": "code",
        "colab": {
          "base_uri": "https://localhost:8080/",
          "height": 51
        },
        "outputId": "5178332e-1be8-455a-e7b0-dff1e5537e22"
      },
      "source": [
        "print(np.random.rand(2,4)) # Create an array of the given shape and populate it with random samples \n",
        "                           # from a uniform distribution over [0, 1)"
      ],
      "execution_count": 19,
      "outputs": [
        {
          "output_type": "stream",
          "text": [
            "[[0.72776694 0.06407413 0.23915094 0.69460467]\n",
            " [0.3521649  0.06062883 0.18609335 0.22743966]]\n"
          ],
          "name": "stdout"
        }
      ]
    },
    {
      "cell_type": "markdown",
      "metadata": {
        "id": "ls34jT6RrFX2",
        "colab_type": "text"
      },
      "source": [
        "#### Initialise array with random numbers from standard normal distribution"
      ]
    },
    {
      "cell_type": "code",
      "metadata": {
        "id": "llcixFYrrFX3",
        "colab_type": "code",
        "colab": {
          "base_uri": "https://localhost:8080/",
          "height": 51
        },
        "outputId": "50ecc37b-c5ad-4d21-ff9f-fcb81cba68d8"
      },
      "source": [
        "print(np.random.standard_normal((2,4)))  #Draw samples from a standard Normal distribution (mean=0, stdev=1)"
      ],
      "execution_count": 20,
      "outputs": [
        {
          "output_type": "stream",
          "text": [
            "[[ 0.83486904  1.12456041 -1.44752386 -0.96556438]\n",
            " [-0.21022052  1.15761149  0.48628363  0.52336189]]\n"
          ],
          "name": "stdout"
        }
      ]
    },
    {
      "cell_type": "markdown",
      "metadata": {
        "id": "Az5uWTKRrFX5",
        "colab_type": "text"
      },
      "source": [
        "#### Initialise array with random integer numbers in a given range"
      ]
    },
    {
      "cell_type": "code",
      "metadata": {
        "id": "XQCNqIebrFX6",
        "colab_type": "code",
        "colab": {
          "base_uri": "https://localhost:8080/",
          "height": 34
        },
        "outputId": "48f137a1-569f-42f6-b05f-1713cc1954ba"
      },
      "source": [
        "x = np.random.randint(low=1, high=100, size=10)  # give me 10 integer numbers randomly picked\n",
        "print(x)                                         # between low and high variable\n",
        "                                   # Everytime u run this cell u will get different answer       "
      ],
      "execution_count": 22,
      "outputs": [
        {
          "output_type": "stream",
          "text": [
            "[37 67 58  1 89 74  2 17 67 80]\n"
          ],
          "name": "stdout"
        }
      ]
    },
    {
      "cell_type": "markdown",
      "metadata": {
        "id": "44Zd0J7JrFX8",
        "colab_type": "text"
      },
      "source": [
        "## Reading arrays from files\n",
        "\n",
        " * genfromtxt for reading from a file\n",
        " * savetxt for writing to a text file\n",
        " * load and save function for reading and writing in numpy's .npz format"
      ]
    },
    {
      "cell_type": "markdown",
      "metadata": {
        "id": "IxYMbUs9rFX9",
        "colab_type": "text"
      },
      "source": [
        "###  reading a csv file"
      ]
    },
    {
      "cell_type": "code",
      "metadata": {
        "id": "YyPV2MA7rFX9",
        "colab_type": "code",
        "colab": {
          "base_uri": "https://localhost:8080/",
          "height": 85
        },
        "outputId": "55da1f34-d2ca-4f63-fb3b-0836d54ba415"
      },
      "source": [
        "data = np.genfromtxt('testInput.txt', delimiter=',')\n",
        "print(data)"
      ],
      "execution_count": 25,
      "outputs": [
        {
          "output_type": "stream",
          "text": [
            "[[1. 2. 3. 4. 5.]\n",
            " [6. 7. 8. 9. 1.]\n",
            " [3. 2. 4. 6. 7.]\n",
            " [7. 3. 6. 9. 1.]]\n"
          ],
          "name": "stdout"
        }
      ]
    },
    {
      "cell_type": "markdown",
      "metadata": {
        "id": "lWgASJT1rFX_",
        "colab_type": "text"
      },
      "source": [
        "### saving a text file"
      ]
    },
    {
      "cell_type": "code",
      "metadata": {
        "id": "cimOz-PUrFYA",
        "colab_type": "code",
        "colab": {}
      },
      "source": [
        "np.savetxt('output.csv', data, delimiter=',', fmt='%.5f')"
      ],
      "execution_count": 0,
      "outputs": []
    },
    {
      "cell_type": "markdown",
      "metadata": {
        "id": "5P59THfcrFYC",
        "colab_type": "text"
      },
      "source": [
        "### Saving in numpy .npy binary format"
      ]
    },
    {
      "cell_type": "code",
      "metadata": {
        "id": "VDE_jVx2rFYD",
        "colab_type": "code",
        "colab": {}
      },
      "source": [
        "np.save('output1', data)   # just pass the output file name"
      ],
      "execution_count": 0,
      "outputs": []
    },
    {
      "cell_type": "code",
      "metadata": {
        "id": "ztVZKAV4tvAm",
        "colab_type": "code",
        "colab": {
          "base_uri": "https://localhost:8080/",
          "height": 34
        },
        "outputId": "5f57d71f-7f2c-4fbf-b192-199d8b481da4"
      },
      "source": [
        "newdata=np.arange(5,30,3.3,float)\n",
        "print(newdata)"
      ],
      "execution_count": 38,
      "outputs": [
        {
          "output_type": "stream",
          "text": [
            "[ 5.   8.3 11.6 14.9 18.2 21.5 24.8 28.1]\n"
          ],
          "name": "stdout"
        }
      ]
    },
    {
      "cell_type": "code",
      "metadata": {
        "id": "61nXzc-ztuMG",
        "colab_type": "code",
        "colab": {}
      },
      "source": [
        "\n"
      ],
      "execution_count": 0,
      "outputs": []
    },
    {
      "cell_type": "markdown",
      "metadata": {
        "id": "05X8l3SrrFYH",
        "colab_type": "text"
      },
      "source": [
        "### Loading numpy .npy binary file"
      ]
    },
    {
      "cell_type": "code",
      "metadata": {
        "id": "0C_rb6wQrFYI",
        "colab_type": "code",
        "colab": {}
      },
      "source": [
        "read_data = np.load('output1.npy')  # must supply file extension .npy"
      ],
      "execution_count": 0,
      "outputs": []
    },
    {
      "cell_type": "code",
      "metadata": {
        "id": "Y_2Ejy7urFYL",
        "colab_type": "code",
        "colab": {
          "base_uri": "https://localhost:8080/",
          "height": 85
        },
        "outputId": "cb0089fa-4df2-4a85-d871-d5d6ff6014d4"
      },
      "source": [
        "data2= data  # creating copy of array data into data2\n",
        "print(data2)"
      ],
      "execution_count": 31,
      "outputs": [
        {
          "output_type": "stream",
          "text": [
            "[[1. 2. 3. 4. 5.]\n",
            " [6. 7. 8. 9. 1.]\n",
            " [3. 2. 4. 6. 7.]\n",
            " [7. 3. 6. 9. 1.]]\n"
          ],
          "name": "stdout"
        }
      ]
    },
    {
      "cell_type": "markdown",
      "metadata": {
        "id": "P-M_P_lJrFYN",
        "colab_type": "text"
      },
      "source": [
        "### Saving numpy arrays in archive form with .npz extension"
      ]
    },
    {
      "cell_type": "code",
      "metadata": {
        "id": "Fz2T9RYorFYO",
        "colab_type": "code",
        "colab": {}
      },
      "source": [
        "np.savez('output2', data=data, data2=data2,latest=newdata)"
      ],
      "execution_count": 0,
      "outputs": []
    },
    {
      "cell_type": "markdown",
      "metadata": {
        "id": "SHQqM1fOrFYP",
        "colab_type": "text"
      },
      "source": [
        "### Loading .npz archive file"
      ]
    },
    {
      "cell_type": "code",
      "metadata": {
        "id": "tsccFqVkrFYQ",
        "colab_type": "code",
        "colab": {}
      },
      "source": [
        "read_data = np.load('output2.npz')"
      ],
      "execution_count": 0,
      "outputs": []
    },
    {
      "cell_type": "code",
      "metadata": {
        "id": "Wp0HeqPkrFYS",
        "colab_type": "code",
        "colab": {
          "base_uri": "https://localhost:8080/",
          "height": 34
        },
        "outputId": "16135d4c-eb46-4905-d21f-dad56b020bab"
      },
      "source": [
        "print(read_data.files)    # to view the files in zipped data"
      ],
      "execution_count": 43,
      "outputs": [
        {
          "output_type": "stream",
          "text": [
            "['data', 'data2', 'latest']\n"
          ],
          "name": "stdout"
        }
      ]
    },
    {
      "cell_type": "code",
      "metadata": {
        "id": "h9yilqGTrFYU",
        "colab_type": "code",
        "colab": {
          "base_uri": "https://localhost:8080/",
          "height": 85
        },
        "outputId": "b8aa8aeb-8f92-4a3a-ba1d-7484b22fe722"
      },
      "source": [
        "print(read_data['data'])   # accessing the first part of data"
      ],
      "execution_count": 44,
      "outputs": [
        {
          "output_type": "stream",
          "text": [
            "[[1. 2. 3. 4. 5.]\n",
            " [6. 7. 8. 9. 1.]\n",
            " [3. 2. 4. 6. 7.]\n",
            " [7. 3. 6. 9. 1.]]\n"
          ],
          "name": "stdout"
        }
      ]
    },
    {
      "cell_type": "code",
      "metadata": {
        "id": "oAOQ0besrFYX",
        "colab_type": "code",
        "colab": {
          "base_uri": "https://localhost:8080/",
          "height": 34
        },
        "outputId": "e03f0453-f1b7-43eb-e16c-bc78f7c94672"
      },
      "source": [
        "print(read_data['latest'])   # accessing the second file"
      ],
      "execution_count": 45,
      "outputs": [
        {
          "output_type": "stream",
          "text": [
            "[ 5.   8.3 11.6 14.9 18.2 21.5 24.8 28.1]\n"
          ],
          "name": "stdout"
        }
      ]
    },
    {
      "cell_type": "markdown",
      "metadata": {
        "id": "jDwWO0FYrFYZ",
        "colab_type": "text"
      },
      "source": [
        "## Array manipulation"
      ]
    },
    {
      "cell_type": "code",
      "metadata": {
        "id": "Ugiim3OSrFYZ",
        "colab_type": "code",
        "colab": {
          "base_uri": "https://localhost:8080/",
          "height": 85
        },
        "outputId": "63508535-ab89-4007-9de0-83cbe62d2912"
      },
      "source": [
        "x = np.array([1,2,3,4,5,6,7])\n",
        "print (x[0])\n",
        "print (x[2:5])\n",
        "print (x[:4])\n",
        "print (x[4:])\n",
        "\n",
        "#Array indexing is similar to lists but generalised to N-dimensions"
      ],
      "execution_count": 46,
      "outputs": [
        {
          "output_type": "stream",
          "text": [
            "1\n",
            "[3 4 5]\n",
            "[1 2 3 4]\n",
            "[5 6 7]\n"
          ],
          "name": "stdout"
        }
      ]
    },
    {
      "cell_type": "code",
      "metadata": {
        "id": "xRR9VwFjrFYb",
        "colab_type": "code",
        "colab": {
          "base_uri": "https://localhost:8080/",
          "height": 136
        },
        "outputId": "0e355f9f-2155-4335-b9cf-f12a98502cb2"
      },
      "source": [
        "x = np.ones((5,5))\n",
        "print(x)\n",
        "print (x[1:3,1:5])"
      ],
      "execution_count": 49,
      "outputs": [
        {
          "output_type": "stream",
          "text": [
            "[[1. 1. 1. 1. 1.]\n",
            " [1. 1. 1. 1. 1.]\n",
            " [1. 1. 1. 1. 1.]\n",
            " [1. 1. 1. 1. 1.]\n",
            " [1. 1. 1. 1. 1.]]\n",
            "[[1. 1. 1. 1.]\n",
            " [1. 1. 1. 1.]]\n"
          ],
          "name": "stdout"
        }
      ]
    },
    {
      "cell_type": "markdown",
      "metadata": {
        "id": "kaqtx2J0rFYd",
        "colab_type": "text"
      },
      "source": [
        "### Extracting a row or column vector from a matrix"
      ]
    },
    {
      "cell_type": "code",
      "metadata": {
        "id": "uI7hAC-OrFYd",
        "colab_type": "code",
        "colab": {}
      },
      "source": [
        "data = np.genfromtxt('testInput.txt', delimiter=',')"
      ],
      "execution_count": 0,
      "outputs": []
    },
    {
      "cell_type": "code",
      "metadata": {
        "id": "f7xi7mQFrFYh",
        "colab_type": "code",
        "colab": {
          "base_uri": "https://localhost:8080/",
          "height": 51
        },
        "outputId": "23693fee-a207-4796-cbb3-5b77809dbb41"
      },
      "source": [
        "print (x[2,:])            # extract row 2 (can also write as x[2])\n",
        "print (x[2,:].shape)     "
      ],
      "execution_count": 51,
      "outputs": [
        {
          "output_type": "stream",
          "text": [
            "[1. 1. 1. 1. 1.]\n",
            "(5,)\n"
          ],
          "name": "stdout"
        }
      ]
    },
    {
      "cell_type": "code",
      "metadata": {
        "id": "eH2wsz5drFYk",
        "colab_type": "code",
        "colab": {
          "base_uri": "https://localhost:8080/",
          "height": 51
        },
        "outputId": "f7a407de-d83c-43c0-f35c-e42c147270de"
      },
      "source": [
        "print (x[:,2])            # extract column 2\n",
        "print (x[:,2].shape)"
      ],
      "execution_count": 52,
      "outputs": [
        {
          "output_type": "stream",
          "text": [
            "[1. 1. 1. 1. 1.]\n",
            "(5,)\n"
          ],
          "name": "stdout"
        }
      ]
    },
    {
      "cell_type": "markdown",
      "metadata": {
        "id": "XV9yKfGcrFYl",
        "colab_type": "text"
      },
      "source": [
        "## Data processing\n",
        "\n",
        "There exists many data processing methods such as min, max, sum, product, mean etc"
      ]
    },
    {
      "cell_type": "code",
      "metadata": {
        "id": "qPd7oDiwrFYm",
        "colab_type": "code",
        "colab": {}
      },
      "source": [
        "import numpy as np\n",
        "x = np.array([1,2,3,4,5,6])"
      ],
      "execution_count": 0,
      "outputs": []
    },
    {
      "cell_type": "code",
      "metadata": {
        "id": "OK1BV-GQrFYq",
        "colab_type": "code",
        "colab": {
          "base_uri": "https://localhost:8080/",
          "height": 119
        },
        "outputId": "2f67574e-cee4-4b3a-dbcc-53917a63e571"
      },
      "source": [
        "print(x.min())         # minimum in x, prints 1\n",
        "print(x.max())         # maximum in x, prints 6\n",
        "print(x.sum())         # sum of all elements in x \n",
        "print(x.prod())        # product of all elements in x \n",
        "print(x.mean())        # mean of x\n",
        "print(x.var())         # variance of x"
      ],
      "execution_count": 54,
      "outputs": [
        {
          "output_type": "stream",
          "text": [
            "1\n",
            "6\n",
            "21\n",
            "720\n",
            "3.5\n",
            "2.9166666666666665\n"
          ],
          "name": "stdout"
        }
      ]
    },
    {
      "cell_type": "markdown",
      "metadata": {
        "id": "jAADCXxorFYr",
        "colab_type": "text"
      },
      "source": [
        "Another way of calling these functions would be to use\n",
        " * np.max(array_name)\n",
        " * np.mean(array_name)"
      ]
    },
    {
      "cell_type": "code",
      "metadata": {
        "id": "DkNPXyvByDA2",
        "colab_type": "code",
        "colab": {
          "base_uri": "https://localhost:8080/",
          "height": 85
        },
        "outputId": "fd76cd94-d2fb-4383-c0f3-93e895b7d9e4"
      },
      "source": [
        "\n",
        "print(np.mean(x))\n",
        "print(np.var(x))\n",
        "print(np.prod(x))\n",
        "print(np.sum(x))\n"
      ],
      "execution_count": 62,
      "outputs": [
        {
          "output_type": "stream",
          "text": [
            "4.5\n",
            "3.9166666666666665\n",
            "14515200\n",
            "54\n"
          ],
          "name": "stdout"
        }
      ]
    },
    {
      "cell_type": "markdown",
      "metadata": {
        "id": "DxG8MPivrFYs",
        "colab_type": "text"
      },
      "source": [
        "## On matrices"
      ]
    },
    {
      "cell_type": "code",
      "metadata": {
        "id": "6-h3daM4rFYs",
        "colab_type": "code",
        "colab": {}
      },
      "source": [
        "x = np.array([[1,2,3,4,5,6],[3,4,5,6,7,8]])     # 2d Matrix"
      ],
      "execution_count": 0,
      "outputs": []
    },
    {
      "cell_type": "code",
      "metadata": {
        "id": "Dy0qm8EdrFYw",
        "colab_type": "code",
        "colab": {
          "base_uri": "https://localhost:8080/",
          "height": 119
        },
        "outputId": "7e3eb1a5-11ab-430d-f337-983508f53649"
      },
      "source": [
        "print(x.min())           #returns 1\n",
        "print(x.min(axis=0))     #returns [1, 2, 3, 4, 5, 6]\n",
        "                         # axis=0 specifies column\n",
        "    \n",
        "print(x.sum())           # sum of all elements in x\n",
        "print(x.sum(axis=0))     # sum of elements along the column axis\n",
        "\n",
        "print(x.mean())                # mean of x\n",
        "print(x.mean(axis=0))          # mean of x along column axis  "
      ],
      "execution_count": 64,
      "outputs": [
        {
          "output_type": "stream",
          "text": [
            "1\n",
            "[1 2 3 4 5 6]\n",
            "54\n",
            "[ 4  6  8 10 12 14]\n",
            "4.5\n",
            "[2. 3. 4. 5. 6. 7.]\n"
          ],
          "name": "stdout"
        }
      ]
    },
    {
      "cell_type": "markdown",
      "metadata": {
        "id": "sKXEAbSPrFYx",
        "colab_type": "text"
      },
      "source": [
        "## Reshaping and resizing\n",
        "\n",
        "Converting a matrix to vector or vice versa"
      ]
    },
    {
      "cell_type": "code",
      "metadata": {
        "id": "Gq66jUlNrFYy",
        "colab_type": "code",
        "colab": {
          "base_uri": "https://localhost:8080/",
          "height": 34
        },
        "outputId": "aff0ce97-fc5a-4e09-f092-65be0daf757a"
      },
      "source": [
        "M = np.array([1,2,3,4,5,6,7,8,9])\n",
        "print(M)"
      ],
      "execution_count": 66,
      "outputs": [
        {
          "output_type": "stream",
          "text": [
            "[1 2 3 4 5 6 7 8 9]\n"
          ],
          "name": "stdout"
        }
      ]
    },
    {
      "cell_type": "code",
      "metadata": {
        "id": "gMREczEsy_EQ",
        "colab_type": "code",
        "colab": {
          "base_uri": "https://localhost:8080/",
          "height": 68
        },
        "outputId": "e1fb0c21-8cfe-4e9f-f697-e1df71263939"
      },
      "source": [
        "newmatrix=M.reshape(3,3)\n",
        "newmatrix"
      ],
      "execution_count": 69,
      "outputs": [
        {
          "output_type": "execute_result",
          "data": {
            "text/plain": [
              "array([[1, 2, 3],\n",
              "       [4, 5, 6],\n",
              "       [7, 8, 9]])"
            ]
          },
          "metadata": {
            "tags": []
          },
          "execution_count": 69
        }
      ]
    },
    {
      "cell_type": "code",
      "metadata": {
        "id": "2_49GFeIrFYz",
        "colab_type": "code",
        "colab": {
          "base_uri": "https://localhost:8080/",
          "height": 34
        },
        "outputId": "d0208f29-2319-45b9-ad5b-14494620f4e3"
      },
      "source": [
        "v = M.reshape(9)\n",
        "print(v)"
      ],
      "execution_count": 73,
      "outputs": [
        {
          "output_type": "stream",
          "text": [
            "[1 2 3 4 5 6 7 8 9]\n"
          ],
          "name": "stdout"
        }
      ]
    },
    {
      "cell_type": "code",
      "metadata": {
        "id": "Ulz94pQMrFY1",
        "colab_type": "code",
        "colab": {
          "base_uri": "https://localhost:8080/",
          "height": 163
        },
        "outputId": "44e424d5-9b45-4017-8185-966ef2ef454c"
      },
      "source": [
        "v = M.reshape(8) # We will get error message. \"The number of elements can’t change\""
      ],
      "execution_count": 74,
      "outputs": [
        {
          "output_type": "error",
          "ename": "ValueError",
          "evalue": "ignored",
          "traceback": [
            "\u001b[0;31m---------------------------------------------------------------------------\u001b[0m",
            "\u001b[0;31mValueError\u001b[0m                                Traceback (most recent call last)",
            "\u001b[0;32m<ipython-input-74-0041b283f2f4>\u001b[0m in \u001b[0;36m<module>\u001b[0;34m()\u001b[0m\n\u001b[0;32m----> 1\u001b[0;31m \u001b[0mv\u001b[0m \u001b[0;34m=\u001b[0m \u001b[0mM\u001b[0m\u001b[0;34m.\u001b[0m\u001b[0mreshape\u001b[0m\u001b[0;34m(\u001b[0m\u001b[0;36m8\u001b[0m\u001b[0;34m)\u001b[0m \u001b[0;31m# We will get error message. \"The number of elements can’t change\"\u001b[0m\u001b[0;34m\u001b[0m\u001b[0;34m\u001b[0m\u001b[0m\n\u001b[0m",
            "\u001b[0;31mValueError\u001b[0m: cannot reshape array of size 9 into shape (8,)"
          ]
        }
      ]
    },
    {
      "cell_type": "markdown",
      "metadata": {
        "id": "N9ahFToXrFY3",
        "colab_type": "text"
      },
      "source": [
        "## Adding a new dimension"
      ]
    },
    {
      "cell_type": "code",
      "metadata": {
        "id": "KZOc9OlTrFY4",
        "colab_type": "code",
        "colab": {
          "base_uri": "https://localhost:8080/",
          "height": 85
        },
        "outputId": "d39b9f6a-b3f0-4e45-a002-5c103059ed3f"
      },
      "source": [
        "v = np.array([1,2,3,4,5])\n",
        "print (v)                         # [1 2 3 4 5]\n",
        "print (v.shape)                   # (5,)\n",
        "v_row = v[np.newaxis, :]         \n",
        "print (v_row)                # [[1 2 3 4 5]]  \n",
        "print (v_row.shape)          # turn a vector into a 1-row matrix. Prints (1,5)\n",
        "     # turn a vector into a 1-column matrix. Prints (5,1)"
      ],
      "execution_count": 76,
      "outputs": [
        {
          "output_type": "stream",
          "text": [
            "[1 2 3 4 5]\n",
            "(5,)\n",
            "[[1 2 3 4 5]]\n",
            "(1, 5)\n"
          ],
          "name": "stdout"
        }
      ]
    },
    {
      "cell_type": "markdown",
      "metadata": {
        "id": "rRUiZoF6rFY6",
        "colab_type": "text"
      },
      "source": [
        "### Stacking arrays\n",
        "\n",
        "Arrays can be stacked horizontally or vertically. Make sure the dimesions are compatible.\n"
      ]
    },
    {
      "cell_type": "code",
      "metadata": {
        "id": "yOU6doVCrFY8",
        "colab_type": "code",
        "colab": {
          "base_uri": "https://localhost:8080/",
          "height": 68
        },
        "outputId": "cc47eca6-a227-4142-a081-ff2f76b3870d"
      },
      "source": [
        "x = np.ones((2,3))\n",
        "y = np.zeros((2,2))\n",
        "\n",
        "z = np.hstack((x, y, x))       # Horizontally stacking the arrays.\n",
        "                               # Arrays are passed as a tuple\n",
        "print (z)\n",
        "print (z.shape)\n"
      ],
      "execution_count": 81,
      "outputs": [
        {
          "output_type": "stream",
          "text": [
            "[[1. 1. 1. 0. 0. 1. 1. 1.]\n",
            " [1. 1. 1. 0. 0. 1. 1. 1.]]\n",
            "(2, 8)\n"
          ],
          "name": "stdout"
        }
      ]
    },
    {
      "cell_type": "code",
      "metadata": {
        "id": "NeUARhL0rFY9",
        "colab_type": "code",
        "colab": {
          "base_uri": "https://localhost:8080/",
          "height": 119
        },
        "outputId": "d1cd0368-1781-4f0c-8cdb-ca825968c22e"
      },
      "source": [
        "x = np.ones((2,2))\n",
        "y = np.zeros((1,2))\n",
        "\n",
        "z = np.vstack((x,y,x))     # Vertically stacking the arrays\n",
        "print (z)\n",
        "print (z.shape)"
      ],
      "execution_count": 82,
      "outputs": [
        {
          "output_type": "stream",
          "text": [
            "[[1. 1.]\n",
            " [1. 1.]\n",
            " [0. 0.]\n",
            " [1. 1.]\n",
            " [1. 1.]]\n",
            "(5, 2)\n"
          ],
          "name": "stdout"
        }
      ]
    },
    {
      "cell_type": "markdown",
      "metadata": {
        "id": "jebWwE_VrFY_",
        "colab_type": "text"
      },
      "source": [
        "## Duplicating array using tile and repeat"
      ]
    },
    {
      "cell_type": "code",
      "metadata": {
        "id": "klxDwxssrFY_",
        "colab_type": "code",
        "colab": {
          "base_uri": "https://localhost:8080/",
          "height": 153
        },
        "outputId": "1f2ac5fb-3f87-46d7-c6df-da69dd85505b"
      },
      "source": [
        "x = np.array([[1,2],[3,4]])\n",
        "\n",
        "print('**************')\n",
        "print('Array x is: ', x)\n",
        "print('**************')\n",
        "\n",
        "y = np.tile(x, 3)         # repeat x three times\n",
        "print(y)\n",
        "\n",
        "z=np.tile(x, (2))       # repeat x (2,4) times\n",
        "print(z)"
      ],
      "execution_count": 85,
      "outputs": [
        {
          "output_type": "stream",
          "text": [
            "**************\n",
            "Array x is:  [[1 2]\n",
            " [3 4]]\n",
            "**************\n",
            "[[1 2 1 2 1 2]\n",
            " [3 4 3 4 3 4]]\n",
            "[[1 2 1 2]\n",
            " [3 4 3 4]]\n"
          ],
          "name": "stdout"
        }
      ]
    },
    {
      "cell_type": "code",
      "metadata": {
        "id": "jwjcMTtmrFZB",
        "colab_type": "code",
        "colab": {
          "base_uri": "https://localhost:8080/",
          "height": 85
        },
        "outputId": "eae9d674-21ea-4b07-afb4-3564b02c06a5"
      },
      "source": [
        "a=np.repeat(x, 4)            # repeat each element 4 times. Does not preserve the shape/dimension\n",
        "print(a)\n",
        "print('*************')\n",
        "\n",
        "b=np.repeat(x, 4, axis=1)    # repeat each element 4 times preserving dimension \n",
        "print(b)"
      ],
      "execution_count": 86,
      "outputs": [
        {
          "output_type": "stream",
          "text": [
            "[1 1 1 1 2 2 2 2 3 3 3 3 4 4 4 4]\n",
            "*************\n",
            "[[1 1 1 1 2 2 2 2]\n",
            " [3 3 3 3 4 4 4 4]]\n"
          ],
          "name": "stdout"
        }
      ]
    },
    {
      "cell_type": "markdown",
      "metadata": {
        "id": "Ut55hgBQrFZC",
        "colab_type": "text"
      },
      "source": [
        "## Copying in python\n",
        "\n",
        "By default, arrays in python are handled by reference. This means that when you do A=B you are just copying a reference, not the data itself. Therefore any changes you make on B will actually reflect on A.\n"
      ]
    },
    {
      "cell_type": "code",
      "metadata": {
        "id": "n2wco16erFZD",
        "colab_type": "code",
        "colab": {
          "base_uri": "https://localhost:8080/",
          "height": 34
        },
        "outputId": "cbcdd714-a732-4f7a-c3de-d1bc92c8fc3b"
      },
      "source": [
        "A = np.array([1,2,3,4,5,6])\n",
        "B = A\n",
        "B[0] = 10\n",
        "print(A)"
      ],
      "execution_count": 87,
      "outputs": [
        {
          "output_type": "stream",
          "text": [
            "[10  2  3  4  5  6]\n"
          ],
          "name": "stdout"
        }
      ]
    },
    {
      "cell_type": "markdown",
      "metadata": {
        "id": "_7w7sk-8rFZE",
        "colab_type": "text"
      },
      "source": [
        "Note, this is also true for Python lists and objects in general"
      ]
    },
    {
      "cell_type": "code",
      "metadata": {
        "id": "Fy5MoxyGrFZF",
        "colab_type": "code",
        "colab": {
          "base_uri": "https://localhost:8080/",
          "height": 34
        },
        "outputId": "d2376894-d807-4af7-f8c4-a16d3e91fde4"
      },
      "source": [
        "A = [1,2,3,4]\n",
        "B = A\n",
        "B[0] = 10\n",
        "print(A)"
      ],
      "execution_count": 88,
      "outputs": [
        {
          "output_type": "stream",
          "text": [
            "[10, 2, 3, 4]\n"
          ],
          "name": "stdout"
        }
      ]
    },
    {
      "cell_type": "markdown",
      "metadata": {
        "id": "xlV_RzXYrFZI",
        "colab_type": "text"
      },
      "source": [
        "## Deep copy using the copy() method\n",
        "\n",
        "To actually copy the data stored in the array we use the numpy copy method,"
      ]
    },
    {
      "cell_type": "code",
      "metadata": {
        "id": "eWvxbOmirFZI",
        "colab_type": "code",
        "colab": {
          "base_uri": "https://localhost:8080/",
          "height": 34
        },
        "outputId": "cf14d269-7083-4d59-ae9f-50b4dced1105"
      },
      "source": [
        "A = np.array([1, 2, 3, 4])\n",
        "B = A.copy()                     # can also write, B = np.copy(A)\n",
        "\n",
        "B[0] = 10\n",
        "print(A)"
      ],
      "execution_count": 89,
      "outputs": [
        {
          "output_type": "stream",
          "text": [
            "[1 2 3 4]\n"
          ],
          "name": "stdout"
        }
      ]
    },
    {
      "cell_type": "markdown",
      "metadata": {
        "id": "TKNNLc_orFZK",
        "colab_type": "text"
      },
      "source": [
        "To copy Python lists we first need to import the copy module,"
      ]
    },
    {
      "cell_type": "code",
      "metadata": {
        "id": "UEjNUClIrFZK",
        "colab_type": "code",
        "colab": {
          "base_uri": "https://localhost:8080/",
          "height": 34
        },
        "outputId": "9200df86-cdc3-4c7b-c9b3-f74599a7522d"
      },
      "source": [
        "import copy\n",
        "A = [1,2,3,4]\n",
        "B = copy.deepcopy(A)\n",
        "print(B)\n",
        "\n",
        "# Its easy to get confused with numpy arrays and lists. Careful !!"
      ],
      "execution_count": 90,
      "outputs": [
        {
          "output_type": "stream",
          "text": [
            "[1, 2, 3, 4]\n"
          ],
          "name": "stdout"
        }
      ]
    },
    {
      "cell_type": "markdown",
      "metadata": {
        "id": "WP713oKZrFZM",
        "colab_type": "text"
      },
      "source": [
        "## Operations in Matrix\n",
        "\n",
        "Numpy supports different array operations such as \n",
        " * addition, subtraction, multiplication, division\n",
        " * transpose, inverse etc"
      ]
    },
    {
      "cell_type": "markdown",
      "metadata": {
        "id": "JZraSacIrFZM",
        "colab_type": "text"
      },
      "source": [
        "### Array addition and substraction"
      ]
    },
    {
      "cell_type": "code",
      "metadata": {
        "id": "h4BNXSP9rFZN",
        "colab_type": "code",
        "colab": {
          "base_uri": "https://localhost:8080/",
          "height": 119
        },
        "outputId": "d68fe7a4-df51-43fb-9c16-0b200dacebbc"
      },
      "source": [
        "X = np.array([[1, 2, 3], [4, 5, 6]])\n",
        "Y = np.ones((2,3))\n",
        "\n",
        "print(X+Y)                     # Element wise adds X and Y\n",
        "\n",
        "print(X - 2 * Y)                      # Multiply each element of Y by 2 and then subtract \n",
        "                               # with every elements of X\n",
        "\n",
        "# note, scalar multiplication\n",
        "print(X + np.array([[2,2,2],[2,2,2]]))  # perform addition element wise"
      ],
      "execution_count": 91,
      "outputs": [
        {
          "output_type": "stream",
          "text": [
            "[[2. 3. 4.]\n",
            " [5. 6. 7.]]\n",
            "[[-1.  0.  1.]\n",
            " [ 2.  3.  4.]]\n",
            "[[3 4 5]\n",
            " [6 7 8]]\n"
          ],
          "name": "stdout"
        }
      ]
    },
    {
      "cell_type": "markdown",
      "metadata": {
        "id": "lMUJp9ozrFZP",
        "colab_type": "text"
      },
      "source": [
        "## Broadcasting \n",
        "\n",
        "There might be situations where the dimension of two matrices/arrays are not equal, where we need to copy array to make dimension compatible to execute certain operation. Python provides away to do this automatically throught broadcasting."
      ]
    },
    {
      "cell_type": "code",
      "metadata": {
        "id": "oFVzJpRDrFZP",
        "colab_type": "code",
        "colab": {
          "base_uri": "https://localhost:8080/",
          "height": 102
        },
        "outputId": "fcef9b7e-6fad-4ca0-c179-1693af02d873"
      },
      "source": [
        "X = np.array([[1,2,3],[4,5,6]])     # X is a 2d array\n",
        "row = np.array([1,1,1])             # row is a 1d array\n",
        "\n",
        "print(X)\n",
        "print(row)\n",
        "print (X + row)      # Dimension mismatch. Numpy does broadcasting automatically to make row\n",
        "                     # a 2d array"
      ],
      "execution_count": 92,
      "outputs": [
        {
          "output_type": "stream",
          "text": [
            "[[1 2 3]\n",
            " [4 5 6]]\n",
            "[1 1 1]\n",
            "[[2 3 4]\n",
            " [5 6 7]]\n"
          ],
          "name": "stdout"
        }
      ]
    },
    {
      "cell_type": "code",
      "metadata": {
        "id": "u3YELFQzrFZS",
        "colab_type": "code",
        "colab": {
          "base_uri": "https://localhost:8080/",
          "height": 68
        },
        "outputId": "d603dca9-755d-492b-a7d5-1effb2fce71e"
      },
      "source": [
        "col = np.array([1,1])\n",
        "print(col)\n",
        "print (X + col[:, np.newaxis])"
      ],
      "execution_count": 93,
      "outputs": [
        {
          "output_type": "stream",
          "text": [
            "[1 1]\n",
            "[[2 3 4]\n",
            " [5 6 7]]\n"
          ],
          "name": "stdout"
        }
      ]
    },
    {
      "cell_type": "markdown",
      "metadata": {
        "id": "heeZLdZ8rFZV",
        "colab_type": "text"
      },
      "source": [
        "## Matrix multiplication\n",
        "\n",
        "### Element wise multiplication"
      ]
    },
    {
      "cell_type": "code",
      "metadata": {
        "id": "Xq-M_qyarFZV",
        "colab_type": "code",
        "colab": {}
      },
      "source": [
        "A = np.array([[1,2,3],[4,5,6]])\n",
        "B = np.array([[3,3,3],[4,4,4]])"
      ],
      "execution_count": 0,
      "outputs": []
    },
    {
      "cell_type": "code",
      "metadata": {
        "id": "NyGi1FPGrFZY",
        "colab_type": "code",
        "colab": {}
      },
      "source": [
        "C = A * B           # element wise multiplication"
      ],
      "execution_count": 0,
      "outputs": []
    },
    {
      "cell_type": "code",
      "metadata": {
        "id": "MKtovu_lrFZZ",
        "colab_type": "code",
        "colab": {
          "base_uri": "https://localhost:8080/",
          "height": 51
        },
        "outputId": "f50e4e64-aab2-42e0-c5a1-9af9a2ae4308"
      },
      "source": [
        "print(C)"
      ],
      "execution_count": 96,
      "outputs": [
        {
          "output_type": "stream",
          "text": [
            "[[ 3  6  9]\n",
            " [16 20 24]]\n"
          ],
          "name": "stdout"
        }
      ]
    },
    {
      "cell_type": "markdown",
      "metadata": {
        "id": "GrlC8NcFrFZb",
        "colab_type": "text"
      },
      "source": [
        "### Standard matrix multiplication"
      ]
    },
    {
      "cell_type": "code",
      "metadata": {
        "id": "D6cqq3mUrFZb",
        "colab_type": "code",
        "colab": {}
      },
      "source": [
        "D = np.dot(A, B.T)  # A = (2,3), B.T = (3,2)\n",
        "                    # Performs standard matrix multiplication\n",
        "                    # Column of A must equal to Rows of B"
      ],
      "execution_count": 0,
      "outputs": []
    },
    {
      "cell_type": "code",
      "metadata": {
        "id": "EI6CZD7UrFZc",
        "colab_type": "code",
        "colab": {
          "base_uri": "https://localhost:8080/",
          "height": 51
        },
        "outputId": "4e13dbde-b4be-400d-9157-82f674d872d4"
      },
      "source": [
        "print(D)"
      ],
      "execution_count": 98,
      "outputs": [
        {
          "output_type": "stream",
          "text": [
            "[[18 24]\n",
            " [45 60]]\n"
          ],
          "name": "stdout"
        }
      ]
    },
    {
      "cell_type": "markdown",
      "metadata": {
        "id": "HENwCoU6rFZf",
        "colab_type": "text"
      },
      "source": [
        "## Transpose\n",
        "\n",
        "Transpose operation alters/swaps the dimension "
      ]
    },
    {
      "cell_type": "code",
      "metadata": {
        "id": "eHEgydkirFZf",
        "colab_type": "code",
        "colab": {
          "base_uri": "https://localhost:8080/",
          "height": 204
        },
        "outputId": "8bb7677a-e768-476a-e464-35cb96413113"
      },
      "source": [
        "A = np.array([[1,2,3],[4,5,6]])\n",
        "print(A)\n",
        "\n",
        "print(A.T)        # Take transpose of A. Just use .T\n",
        "                  # Rows of A now becomes columns\n",
        "\n",
        "print(A.shape)     # prints (2,3)\n",
        "print(A.T.shape)   # (3,2)\n",
        "\n",
        "v = np.array([1,2,3,4,5])\n",
        "print(v)\n",
        "\n",
        "print(v.T)\n",
        "\n",
        "# Vectors only have one dimension. Transpose does nothing.\n",
        "print(v.shape)     # prints (5,)\n",
        "print(v.T.shape)   # prints (5,)"
      ],
      "execution_count": 99,
      "outputs": [
        {
          "output_type": "stream",
          "text": [
            "[[1 2 3]\n",
            " [4 5 6]]\n",
            "[[1 4]\n",
            " [2 5]\n",
            " [3 6]]\n",
            "(2, 3)\n",
            "(3, 2)\n",
            "[1 2 3 4 5]\n",
            "[1 2 3 4 5]\n",
            "(5,)\n",
            "(5,)\n"
          ],
          "name": "stdout"
        }
      ]
    },
    {
      "cell_type": "markdown",
      "metadata": {
        "id": "lJcAi4LHrFZg",
        "colab_type": "text"
      },
      "source": [
        "## Inverse of a matrix\n",
        "\n",
        "linalg submodule of Numpy provides functionalities needed for computing matrix determinant and inverse"
      ]
    },
    {
      "cell_type": "code",
      "metadata": {
        "id": "MQFALXGorFZh",
        "colab_type": "code",
        "colab": {
          "base_uri": "https://localhost:8080/",
          "height": 102
        },
        "outputId": "ee840d37-2857-43ed-90b5-1ab9b92ebbbf"
      },
      "source": [
        "A = np.array([[2,1],[3,2]])\n",
        "print(A)\n",
        "\n",
        "det_A = np.linalg.det(A)\n",
        "print(det_A)\n",
        "\n",
        "inv_A = np.linalg.inv(A)\n",
        "print(inv_A)"
      ],
      "execution_count": 100,
      "outputs": [
        {
          "output_type": "stream",
          "text": [
            "[[2 1]\n",
            " [3 2]]\n",
            "0.9999999999999998\n",
            "[[ 2. -1.]\n",
            " [-3.  2.]]\n"
          ],
          "name": "stdout"
        }
      ]
    },
    {
      "cell_type": "markdown",
      "metadata": {
        "id": "IgJ5Z3nurFZi",
        "colab_type": "text"
      },
      "source": [
        "## Summary\n",
        "\n",
        " * Numpy provides tools for numeric computing\n",
        " * With Numpy, Python becomes a usable alternative to MATLAB\n",
        " * Basic type is the ndarray - can represent vectors, matrices etc \n",
        " * Lots of tools for vector and matrix manipulation\n",
        "   * This lecture has only reviewed the most commonly used.\n",
        " * For full documentation see http://docs.scipy.org/doc/numpy/"
      ]
    },
    {
      "cell_type": "code",
      "metadata": {
        "id": "2bXRSGqlrFZj",
        "colab_type": "code",
        "colab": {}
      },
      "source": [
        ""
      ],
      "execution_count": 0,
      "outputs": []
    }
  ]
}